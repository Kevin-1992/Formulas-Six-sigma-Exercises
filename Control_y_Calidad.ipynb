{
  "nbformat": 4,
  "nbformat_minor": 0,
  "metadata": {
    "colab": {
      "name": "Control y Calidad ",
      "provenance": [],
      "authorship_tag": "ABX9TyPEtaKamngMI00ZmKdzg645",
      "include_colab_link": true
    },
    "kernelspec": {
      "name": "python3",
      "display_name": "Python 3"
    }
  },
  "cells": [
    {
      "cell_type": "markdown",
      "metadata": {
        "id": "view-in-github",
        "colab_type": "text"
      },
      "source": [
        "<a href=\"https://colab.research.google.com/github/Kevin-1992/Six-sigma-Exercises/blob/main/Control_y_Calidad.ipynb\" target=\"_parent\"><img src=\"https://colab.research.google.com/assets/colab-badge.svg\" alt=\"Open In Colab\"/></a>"
      ]
    },
    {
      "cell_type": "code",
      "metadata": {
        "id": "RVvwBYYSIkg2",
        "outputId": "0ced51bc-1934-4278-fbee-8b9f4be7a916",
        "colab": {
          "base_uri": "https://localhost:8080/",
          "height": 74
        }
      },
      "source": [
        "import pandas as pd\n",
        "import numpy as np\n",
        "import seaborn as sns\n",
        "import matplotlib.pyplot as plt\n",
        "import statistics"
      ],
      "execution_count": null,
      "outputs": [
        {
          "output_type": "stream",
          "text": [
            "/usr/local/lib/python3.6/dist-packages/statsmodels/tools/_testing.py:19: FutureWarning: pandas.util.testing is deprecated. Use the functions in the public API at pandas.testing instead.\n",
            "  import pandas.util.testing as tm\n"
          ],
          "name": "stderr"
        }
      ]
    },
    {
      "cell_type": "code",
      "metadata": {
        "id": "s7WVSj0hI8fP"
      },
      "source": [
        "X = 252\n",
        "S = 52"
      ],
      "execution_count": null,
      "outputs": []
    },
    {
      "cell_type": "code",
      "metadata": {
        "id": "NWyzoBdHJLkl"
      },
      "source": [
        "Regla_68_negativo = (X-S)\n",
        "Regla_68_positivo = (X+S)"
      ],
      "execution_count": null,
      "outputs": []
    },
    {
      "cell_type": "code",
      "metadata": {
        "id": "Sr8RE7ejJqB9",
        "outputId": "6e7d4f5d-5081-4dee-9970-ff29516e6072",
        "colab": {
          "base_uri": "https://localhost:8080/",
          "height": 35
        }
      },
      "source": [
        "Regla_68_negativo,Regla_68_positivo"
      ],
      "execution_count": null,
      "outputs": [
        {
          "output_type": "execute_result",
          "data": {
            "text/plain": [
              "(200, 304)"
            ]
          },
          "metadata": {
            "tags": []
          },
          "execution_count": 17
        }
      ]
    },
    {
      "cell_type": "code",
      "metadata": {
        "id": "eYjHA4FqJ_t0"
      },
      "source": [
        "Regla_95_negativo = (X-2*S)\n",
        "Regla_95_positivo = (X+2*S)"
      ],
      "execution_count": null,
      "outputs": []
    },
    {
      "cell_type": "code",
      "metadata": {
        "id": "7A_17tphKt4c",
        "outputId": "d891235d-65c4-495d-a803-37d436dc4e65",
        "colab": {
          "base_uri": "https://localhost:8080/",
          "height": 35
        }
      },
      "source": [
        "Regla_95_negativo,Regla_95_positivo"
      ],
      "execution_count": null,
      "outputs": [
        {
          "output_type": "execute_result",
          "data": {
            "text/plain": [
              "(148, 356)"
            ]
          },
          "metadata": {
            "tags": []
          },
          "execution_count": 19
        }
      ]
    },
    {
      "cell_type": "code",
      "metadata": {
        "id": "CBfqBBdkK3I8"
      },
      "source": [
        "Regla_99_negativo = (X-3*S)\n",
        "Regla_99_positivo = (X+3*S)"
      ],
      "execution_count": null,
      "outputs": []
    },
    {
      "cell_type": "code",
      "metadata": {
        "id": "0sbbV7wUL4rs",
        "outputId": "8a4c7e00-a1d7-4051-88e9-5d3cbc96fc71",
        "colab": {
          "base_uri": "https://localhost:8080/",
          "height": 35
        }
      },
      "source": [
        "Regla_99_negativo,Regla_99_positivo"
      ],
      "execution_count": null,
      "outputs": [
        {
          "output_type": "execute_result",
          "data": {
            "text/plain": [
              "(96, 408)"
            ]
          },
          "metadata": {
            "tags": []
          },
          "execution_count": 23
        }
      ]
    },
    {
      "cell_type": "code",
      "metadata": {
        "id": "fktRoTCeMHM9"
      },
      "source": [
        "AX = 90\n",
        "AS = 1.5\n",
        "\n",
        "BX = 90.5\n",
        "BS = 1.0\n",
        "\n",
        "CX = 92\n",
        "CS = 0.5"
      ],
      "execution_count": null,
      "outputs": []
    },
    {
      "cell_type": "code",
      "metadata": {
        "id": "XznRMmnOPGZa"
      },
      "source": [
        "A_Regla_68_negativo = (AX-AS)\n",
        "A_Regla_68_positivo = (AX+AS)\n",
        "A_Regla_95_negativo = (AX-2*AS)\n",
        "A_Regla_95_positivo = (AX+2*AS)\n",
        "A_Regla_99_negativo = (AX-3*AS)\n",
        "A_Regla_99_positivo = (AX+3*AS)\n",
        "\n",
        "B_Regla_68_negativo = (BX-BS)\n",
        "B_Regla_68_positivo = (BX+BS)\n",
        "B_Regla_95_negativo = (BX-2*BS)\n",
        "B_Regla_95_positivo = (BX+2*BS)\n",
        "B_Regla_99_negativo = (BX-3*BS)\n",
        "B_Regla_99_positivo = (BX+3*BS)\n",
        "\n",
        "C_Regla_68_negativo = (CX-CS)\n",
        "C_Regla_68_positivo = (CX+CS)\n",
        "C_Regla_95_negativo = (CX-2*CS)\n",
        "C_Regla_95_positivo = (CX+2*CS)\n",
        "C_Regla_99_negativo = (CX-3*CS)\n",
        "C_Regla_99_positivo = (CX+3*CS)"
      ],
      "execution_count": null,
      "outputs": []
    },
    {
      "cell_type": "code",
      "metadata": {
        "id": "KYEVEpSmQE2D",
        "outputId": "388ce8fd-5d96-423b-e918-12d5572a784d",
        "colab": {
          "base_uri": "https://localhost:8080/",
          "height": 72
        }
      },
      "source": [
        "print('Maquina A, Regla 68%',' ',A_Regla_68_negativo,',',A_Regla_68_positivo)\n",
        "print('Maquina A, Regla 95%',' ',A_Regla_95_negativo,',',A_Regla_95_positivo)\n",
        "print('Maquina A, Regla 99%',' ',A_Regla_99_negativo,',',A_Regla_99_positivo)"
      ],
      "execution_count": null,
      "outputs": [
        {
          "output_type": "stream",
          "text": [
            "Maquina A, Regla 68%   88.5 , 91.5\n",
            "Maquina A, Regla 95%   87.0 , 93.0\n",
            "Maquina A, Regla 99%   85.5 , 94.5\n"
          ],
          "name": "stdout"
        }
      ]
    },
    {
      "cell_type": "code",
      "metadata": {
        "id": "z_s-EznyQeqz",
        "outputId": "ca7693ea-c5fe-4aca-dbf4-613fc8d2a0a8",
        "colab": {
          "base_uri": "https://localhost:8080/",
          "height": 72
        }
      },
      "source": [
        "print('Maquina B, Regla 68%',' ',B_Regla_68_negativo,',',B_Regla_68_positivo)\n",
        "print('Maquina B, Regla 95%',' ',B_Regla_95_negativo,',',B_Regla_95_positivo)\n",
        "print('Maquina B, Regla 99%',' ',B_Regla_99_negativo,',',B_Regla_99_positivo)"
      ],
      "execution_count": null,
      "outputs": [
        {
          "output_type": "stream",
          "text": [
            "Maquina B, Regla 68%   89.5 , 91.5\n",
            "Maquina B, Regla 95%   88.5 , 92.5\n",
            "Maquina B, Regla 99%   87.5 , 93.5\n"
          ],
          "name": "stdout"
        }
      ]
    },
    {
      "cell_type": "code",
      "metadata": {
        "id": "iyKPZtvfRfwS",
        "outputId": "97263022-b9cd-4d04-9380-e22da0b5a2df",
        "colab": {
          "base_uri": "https://localhost:8080/",
          "height": 72
        }
      },
      "source": [
        "print('Maquina C, Regla 68%',' ',C_Regla_68_negativo,',',C_Regla_68_positivo)\n",
        "print('Maquina C, Regla 95%',' ',C_Regla_95_negativo,',',C_Regla_95_positivo)\n",
        "print('Maquina C, Regla 99%',' ',C_Regla_99_negativo,',',C_Regla_99_positivo)"
      ],
      "execution_count": null,
      "outputs": [
        {
          "output_type": "stream",
          "text": [
            "Maquina C, Regla 68%   91.5 , 92.5\n",
            "Maquina C, Regla 95%   91.0 , 93.0\n",
            "Maquina C, Regla 99%   90.5 , 93.5\n"
          ],
          "name": "stdout"
        }
      ]
    },
    {
      "cell_type": "code",
      "metadata": {
        "id": "rsvdaedGSjTB"
      },
      "source": [
        ""
      ],
      "execution_count": null,
      "outputs": []
    }
  ]
}